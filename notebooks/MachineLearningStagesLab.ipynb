{
  "nbformat": 4,
  "nbformat_minor": 0,
  "metadata": {
    "colab": {
      "provenance": [],
      "authorship_tag": "ABX9TyMyZeCrkD8xD7e0Wqb+pySw"
    },
    "kernelspec": {
      "name": "python3",
      "display_name": "Python 3"
    },
    "language_info": {
      "name": "python"
    }
  },
  "cells": [
    {
      "cell_type": "markdown",
      "source": [
        "# Machine Learning Stages Lab"
      ],
      "metadata": {
        "id": "J-3lMHu2PKoF"
      }
    },
    {
      "cell_type": "markdown",
      "source": [
        "### Intro and objectives\n",
        "\n",
        "\n",
        "### In this lab you will learn:\n",
        "1. An overview of how machine learning models work and how they are used\n"
      ],
      "metadata": {
        "id": "5wqyoEmjPPie"
      }
    },
    {
      "cell_type": "code",
      "execution_count": null,
      "metadata": {
        "id": "8ZtioHv0NIh3"
      },
      "outputs": [],
      "source": []
    },
    {
      "cell_type": "markdown",
      "source": [
        "## 1. Business Understanding Stage\n",
        "\n",
        "\n",
        "You work for a real estate company, you are tasked with the development of a ML-based model to predict real estate values.\n",
        "\n",
        "Based on interviews with real estate agents you learn than house prices are based on characteristics such as size, number of rooms, location, age, etc.\n"
      ],
      "metadata": {
        "id": "S0CYT-BMPuX5"
      }
    },
    {
      "cell_type": "markdown",
      "source": [
        "## 2. Data Understanding Stage\n",
        "### We conduct some basic Exploratory Data Analysis (EDA)"
      ],
      "metadata": {
        "id": "pd5mDYFlRHue"
      }
    },
    {
      "cell_type": "code",
      "source": [
        "import pandas as pd\n",
        "from sklearn.model_selection import train_test_split\n",
        "from sklearn.tree import DecisionTreeRegressor\n",
        "from sklearn.metrics import mean_absolute_error"
      ],
      "metadata": {
        "id": "IA4hvMzuRTPV"
      },
      "execution_count": null,
      "outputs": []
    },
    {
      "cell_type": "code",
      "source": [
        "\n",
        "import seaborn as sns\n",
        "import matplotlib.pyplot as plt"
      ],
      "metadata": {
        "id": "dCHlnJOcUdsA"
      },
      "execution_count": null,
      "outputs": []
    },
    {
      "cell_type": "code",
      "source": [
        "\n",
        "# Load data\n",
        "\n",
        "melbourne_data = pd.read_csv('https://raw.githubusercontent.com/thousandoaks/ML4DS301/main/data/melb_data.csv')\n",
        "melbourne_data.head(4)"
      ],
      "metadata": {
        "id": "Ay_bkUyNRYaM"
      },
      "execution_count": null,
      "outputs": []
    },
    {
      "cell_type": "code",
      "source": [
        "melbourne_data.head(4).T"
      ],
      "metadata": {
        "id": "Ri0Bid-hR_YN"
      },
      "execution_count": null,
      "outputs": []
    },
    {
      "cell_type": "code",
      "source": [
        "melbourne_data.info()"
      ],
      "metadata": {
        "id": "IxgtSClVR6zf"
      },
      "execution_count": null,
      "outputs": []
    },
    {
      "cell_type": "code",
      "source": [
        "melbourne_data.describe()"
      ],
      "metadata": {
        "id": "A0Y3D4RhRgch"
      },
      "execution_count": null,
      "outputs": []
    },
    {
      "cell_type": "code",
      "source": [
        "melbourne_data.groupby('Type').count()"
      ],
      "metadata": {
        "id": "VRiEPRq6TFS_"
      },
      "execution_count": null,
      "outputs": []
    },
    {
      "cell_type": "code",
      "source": [
        "melbourne_data.groupby('Regionname').count()"
      ],
      "metadata": {
        "id": "-kfYx7WQT62z"
      },
      "execution_count": null,
      "outputs": []
    },
    {
      "cell_type": "code",
      "source": [],
      "metadata": {
        "id": "PWwg2Nl8T6zs"
      },
      "execution_count": null,
      "outputs": []
    },
    {
      "cell_type": "code",
      "source": [
        "melbourne_data.columns"
      ],
      "metadata": {
        "id": "WgJF3-D_TSNP"
      },
      "execution_count": null,
      "outputs": []
    },
    {
      "cell_type": "code",
      "source": [
        "qualitative_features=['Rooms','Type','Bedroom2', 'Bathroom', 'Car','Regionname']"
      ],
      "metadata": {
        "id": "uP3j9sUvTDHx"
      },
      "execution_count": null,
      "outputs": []
    },
    {
      "cell_type": "code",
      "source": [
        "# prompt: supress warnings\n",
        "\n",
        "import warnings\n",
        "warnings.filterwarnings('ignore')\n"
      ],
      "metadata": {
        "id": "35JgNnIDUulm"
      },
      "execution_count": null,
      "outputs": []
    },
    {
      "cell_type": "code",
      "source": [
        "for feature in qualitative_features:\n",
        "\n",
        "  # Create the boxplot without outliers\n",
        "  sns.boxplot(x=feature, y='Price', data=melbourne_data, showfliers=False)\n",
        "  plt.xticks(rotation=45)\n",
        "  plt.show()\n"
      ],
      "metadata": {
        "id": "C1bv6xzVUWC6"
      },
      "execution_count": null,
      "outputs": []
    },
    {
      "cell_type": "code",
      "source": [
        "# prompt: seaborn scatterplot x-axis landsize y-axis price, log scale for both\n",
        "\n",
        "plt.figure(figsize=(10, 6))\n",
        "sns.scatterplot(x='Landsize', y='Price', data=melbourne_data)\n",
        "plt.xscale('log')\n",
        "plt.yscale('log')\n",
        "plt.xlabel('Landsize (log scale)')\n",
        "plt.ylabel('Price (log scale)')\n",
        "plt.title('Landsize vs. Price (Log Scale)')\n",
        "plt.show()\n"
      ],
      "metadata": {
        "id": "sbEmYLOgUWAT"
      },
      "execution_count": null,
      "outputs": []
    },
    {
      "cell_type": "markdown",
      "source": [
        "## 3. Model Training\n",
        "### We need to select the features (factors) to be used to train the model\n",
        "### We follow the Train-Test-Evaluation Method\n",
        "\n",
        "You will use the scikit-learn library to create your models."
      ],
      "metadata": {
        "id": "f-7ym-EMXMmt"
      }
    },
    {
      "cell_type": "markdown",
      "source": [
        "### 3.1. Data Split"
      ],
      "metadata": {
        "id": "DkhrlG6LYVKJ"
      }
    },
    {
      "cell_type": "code",
      "source": [
        " #Filter rows with missing price values\n",
        "filtered_melbourne_data = melbourne_data.dropna(axis=0)"
      ],
      "metadata": {
        "id": "0_gPIi0RYPnL"
      },
      "execution_count": null,
      "outputs": []
    },
    {
      "cell_type": "code",
      "source": [
        "# Choose target and features\n",
        "y = filtered_melbourne_data['Price']\n",
        "melbourne_features = ['Rooms', 'Bathroom', 'Landsize', 'BuildingArea',\n",
        "                        'YearBuilt', 'Lattitude', 'Longtitude']\n",
        "X = filtered_melbourne_data[melbourne_features]"
      ],
      "metadata": {
        "id": "yH-zAds0YlZi"
      },
      "execution_count": null,
      "outputs": []
    },
    {
      "cell_type": "code",
      "source": [
        "# split data into training and test data, for both features and target\n",
        "# The split is based on a random number generator. Supplying a numeric value to\n",
        "# the random_state argument guarantees we get the same split every time we\n",
        "# run this script.\n",
        "train_X, test_X, train_y, test_y = train_test_split(X, y, random_state = 0)"
      ],
      "metadata": {
        "id": "fXWT3g6fYsx4"
      },
      "execution_count": null,
      "outputs": []
    },
    {
      "cell_type": "code",
      "source": [
        "train_X"
      ],
      "metadata": {
        "id": "NcoQvZS0Yu4B"
      },
      "execution_count": null,
      "outputs": []
    },
    {
      "cell_type": "code",
      "source": [
        "train_y"
      ],
      "metadata": {
        "id": "9eFrdypEYwQU"
      },
      "execution_count": null,
      "outputs": []
    },
    {
      "cell_type": "code",
      "source": [
        "test_X"
      ],
      "metadata": {
        "id": "V8lNi3DNYzqN"
      },
      "execution_count": null,
      "outputs": []
    },
    {
      "cell_type": "code",
      "source": [
        "test_y"
      ],
      "metadata": {
        "id": "TsDsCCmDYzmq"
      },
      "execution_count": null,
      "outputs": []
    },
    {
      "cell_type": "markdown",
      "source": [
        "### 3.2. Model Fit\n",
        "#### We fit our model using the training dataset ONLY\n",
        "\n",
        "\n"
      ],
      "metadata": {
        "id": "_hIxka0FY_aC"
      }
    },
    {
      "cell_type": "code",
      "source": [
        "# Define model, in this case we choose a DecisionTreeRegressor()\n",
        "melbourne_model = DecisionTreeRegressor()"
      ],
      "metadata": {
        "id": "11vUn7eSZDjK"
      },
      "execution_count": null,
      "outputs": []
    },
    {
      "cell_type": "code",
      "source": [
        "# Fit model\n",
        "melbourne_model.fit(train_X, train_y)"
      ],
      "metadata": {
        "id": "bsBlaj7DZP8r"
      },
      "execution_count": null,
      "outputs": []
    },
    {
      "cell_type": "markdown",
      "source": [
        "## 4. Model Evaluation\n",
        "#### We evaluate the performance of our model using the test dataset ONLY"
      ],
      "metadata": {
        "id": "ntdShnQMZjJk"
      }
    },
    {
      "cell_type": "code",
      "source": [
        "# get predicted prices on validation data\n",
        "val_predictions = melbourne_model.predict(test_X)\n",
        "print(mean_absolute_error(test_y, val_predictions))"
      ],
      "metadata": {
        "id": "9N1AtPZYaJcx"
      },
      "execution_count": null,
      "outputs": []
    },
    {
      "cell_type": "markdown",
      "source": [
        "The mean absolute error is larger than 260K US Dollars. The average home value in the validation data is 1.1 million dollars. So the error in new data is about a quarter of the average home value.\n",
        "\n",
        "There are many ways to improve this model, such as experimenting to find better features or different model types."
      ],
      "metadata": {
        "id": "xmCrR4MKacRu"
      }
    },
    {
      "cell_type": "markdown",
      "source": [
        "## 5. Deployment\n",
        "#### Once we are satisfied with the performance of our model we are ready to use it to predict house prices\n",
        "\n",
        "Let's asume that we have three new houses"
      ],
      "metadata": {
        "id": "_40ziNx-bNbb"
      }
    },
    {
      "cell_type": "code",
      "source": [
        "new_houses=X.sample(3)\n",
        "new_houses"
      ],
      "metadata": {
        "colab": {
          "base_uri": "https://localhost:8080/",
          "height": 143
        },
        "id": "VIwi21_Sd74p",
        "outputId": "e815eba4-6946-4806-bc0a-0753b75d0280"
      },
      "execution_count": 48,
      "outputs": [
        {
          "output_type": "execute_result",
          "data": {
            "text/plain": [
              "       Rooms  Bathroom  Landsize  BuildingArea  YearBuilt  Lattitude  \\\n",
              "3396       5       3.0    1006.0         411.0     1920.0  -37.77650   \n",
              "10414      3       1.0     396.0         108.0     1955.0  -37.71665   \n",
              "8249       2       1.0       0.0          59.0     1970.0  -37.85380   \n",
              "\n",
              "       Longtitude  \n",
              "3396    145.04270  \n",
              "10414   145.11682  \n",
              "8249    145.00880  "
            ],
            "text/html": [
              "\n",
              "  <div id=\"df-2742a13b-bbea-4445-abff-911b921a8504\" class=\"colab-df-container\">\n",
              "    <div>\n",
              "<style scoped>\n",
              "    .dataframe tbody tr th:only-of-type {\n",
              "        vertical-align: middle;\n",
              "    }\n",
              "\n",
              "    .dataframe tbody tr th {\n",
              "        vertical-align: top;\n",
              "    }\n",
              "\n",
              "    .dataframe thead th {\n",
              "        text-align: right;\n",
              "    }\n",
              "</style>\n",
              "<table border=\"1\" class=\"dataframe\">\n",
              "  <thead>\n",
              "    <tr style=\"text-align: right;\">\n",
              "      <th></th>\n",
              "      <th>Rooms</th>\n",
              "      <th>Bathroom</th>\n",
              "      <th>Landsize</th>\n",
              "      <th>BuildingArea</th>\n",
              "      <th>YearBuilt</th>\n",
              "      <th>Lattitude</th>\n",
              "      <th>Longtitude</th>\n",
              "    </tr>\n",
              "  </thead>\n",
              "  <tbody>\n",
              "    <tr>\n",
              "      <th>3396</th>\n",
              "      <td>5</td>\n",
              "      <td>3.0</td>\n",
              "      <td>1006.0</td>\n",
              "      <td>411.0</td>\n",
              "      <td>1920.0</td>\n",
              "      <td>-37.77650</td>\n",
              "      <td>145.04270</td>\n",
              "    </tr>\n",
              "    <tr>\n",
              "      <th>10414</th>\n",
              "      <td>3</td>\n",
              "      <td>1.0</td>\n",
              "      <td>396.0</td>\n",
              "      <td>108.0</td>\n",
              "      <td>1955.0</td>\n",
              "      <td>-37.71665</td>\n",
              "      <td>145.11682</td>\n",
              "    </tr>\n",
              "    <tr>\n",
              "      <th>8249</th>\n",
              "      <td>2</td>\n",
              "      <td>1.0</td>\n",
              "      <td>0.0</td>\n",
              "      <td>59.0</td>\n",
              "      <td>1970.0</td>\n",
              "      <td>-37.85380</td>\n",
              "      <td>145.00880</td>\n",
              "    </tr>\n",
              "  </tbody>\n",
              "</table>\n",
              "</div>\n",
              "    <div class=\"colab-df-buttons\">\n",
              "\n",
              "  <div class=\"colab-df-container\">\n",
              "    <button class=\"colab-df-convert\" onclick=\"convertToInteractive('df-2742a13b-bbea-4445-abff-911b921a8504')\"\n",
              "            title=\"Convert this dataframe to an interactive table.\"\n",
              "            style=\"display:none;\">\n",
              "\n",
              "  <svg xmlns=\"http://www.w3.org/2000/svg\" height=\"24px\" viewBox=\"0 -960 960 960\">\n",
              "    <path d=\"M120-120v-720h720v720H120Zm60-500h600v-160H180v160Zm220 220h160v-160H400v160Zm0 220h160v-160H400v160ZM180-400h160v-160H180v160Zm440 0h160v-160H620v160ZM180-180h160v-160H180v160Zm440 0h160v-160H620v160Z\"/>\n",
              "  </svg>\n",
              "    </button>\n",
              "\n",
              "  <style>\n",
              "    .colab-df-container {\n",
              "      display:flex;\n",
              "      gap: 12px;\n",
              "    }\n",
              "\n",
              "    .colab-df-convert {\n",
              "      background-color: #E8F0FE;\n",
              "      border: none;\n",
              "      border-radius: 50%;\n",
              "      cursor: pointer;\n",
              "      display: none;\n",
              "      fill: #1967D2;\n",
              "      height: 32px;\n",
              "      padding: 0 0 0 0;\n",
              "      width: 32px;\n",
              "    }\n",
              "\n",
              "    .colab-df-convert:hover {\n",
              "      background-color: #E2EBFA;\n",
              "      box-shadow: 0px 1px 2px rgba(60, 64, 67, 0.3), 0px 1px 3px 1px rgba(60, 64, 67, 0.15);\n",
              "      fill: #174EA6;\n",
              "    }\n",
              "\n",
              "    .colab-df-buttons div {\n",
              "      margin-bottom: 4px;\n",
              "    }\n",
              "\n",
              "    [theme=dark] .colab-df-convert {\n",
              "      background-color: #3B4455;\n",
              "      fill: #D2E3FC;\n",
              "    }\n",
              "\n",
              "    [theme=dark] .colab-df-convert:hover {\n",
              "      background-color: #434B5C;\n",
              "      box-shadow: 0px 1px 3px 1px rgba(0, 0, 0, 0.15);\n",
              "      filter: drop-shadow(0px 1px 2px rgba(0, 0, 0, 0.3));\n",
              "      fill: #FFFFFF;\n",
              "    }\n",
              "  </style>\n",
              "\n",
              "    <script>\n",
              "      const buttonEl =\n",
              "        document.querySelector('#df-2742a13b-bbea-4445-abff-911b921a8504 button.colab-df-convert');\n",
              "      buttonEl.style.display =\n",
              "        google.colab.kernel.accessAllowed ? 'block' : 'none';\n",
              "\n",
              "      async function convertToInteractive(key) {\n",
              "        const element = document.querySelector('#df-2742a13b-bbea-4445-abff-911b921a8504');\n",
              "        const dataTable =\n",
              "          await google.colab.kernel.invokeFunction('convertToInteractive',\n",
              "                                                    [key], {});\n",
              "        if (!dataTable) return;\n",
              "\n",
              "        const docLinkHtml = 'Like what you see? Visit the ' +\n",
              "          '<a target=\"_blank\" href=https://colab.research.google.com/notebooks/data_table.ipynb>data table notebook</a>'\n",
              "          + ' to learn more about interactive tables.';\n",
              "        element.innerHTML = '';\n",
              "        dataTable['output_type'] = 'display_data';\n",
              "        await google.colab.output.renderOutput(dataTable, element);\n",
              "        const docLink = document.createElement('div');\n",
              "        docLink.innerHTML = docLinkHtml;\n",
              "        element.appendChild(docLink);\n",
              "      }\n",
              "    </script>\n",
              "  </div>\n",
              "\n",
              "\n",
              "<div id=\"df-68bcfa46-3ce4-4633-be5a-6f9f35c803dd\">\n",
              "  <button class=\"colab-df-quickchart\" onclick=\"quickchart('df-68bcfa46-3ce4-4633-be5a-6f9f35c803dd')\"\n",
              "            title=\"Suggest charts\"\n",
              "            style=\"display:none;\">\n",
              "\n",
              "<svg xmlns=\"http://www.w3.org/2000/svg\" height=\"24px\"viewBox=\"0 0 24 24\"\n",
              "     width=\"24px\">\n",
              "    <g>\n",
              "        <path d=\"M19 3H5c-1.1 0-2 .9-2 2v14c0 1.1.9 2 2 2h14c1.1 0 2-.9 2-2V5c0-1.1-.9-2-2-2zM9 17H7v-7h2v7zm4 0h-2V7h2v10zm4 0h-2v-4h2v4z\"/>\n",
              "    </g>\n",
              "</svg>\n",
              "  </button>\n",
              "\n",
              "<style>\n",
              "  .colab-df-quickchart {\n",
              "      --bg-color: #E8F0FE;\n",
              "      --fill-color: #1967D2;\n",
              "      --hover-bg-color: #E2EBFA;\n",
              "      --hover-fill-color: #174EA6;\n",
              "      --disabled-fill-color: #AAA;\n",
              "      --disabled-bg-color: #DDD;\n",
              "  }\n",
              "\n",
              "  [theme=dark] .colab-df-quickchart {\n",
              "      --bg-color: #3B4455;\n",
              "      --fill-color: #D2E3FC;\n",
              "      --hover-bg-color: #434B5C;\n",
              "      --hover-fill-color: #FFFFFF;\n",
              "      --disabled-bg-color: #3B4455;\n",
              "      --disabled-fill-color: #666;\n",
              "  }\n",
              "\n",
              "  .colab-df-quickchart {\n",
              "    background-color: var(--bg-color);\n",
              "    border: none;\n",
              "    border-radius: 50%;\n",
              "    cursor: pointer;\n",
              "    display: none;\n",
              "    fill: var(--fill-color);\n",
              "    height: 32px;\n",
              "    padding: 0;\n",
              "    width: 32px;\n",
              "  }\n",
              "\n",
              "  .colab-df-quickchart:hover {\n",
              "    background-color: var(--hover-bg-color);\n",
              "    box-shadow: 0 1px 2px rgba(60, 64, 67, 0.3), 0 1px 3px 1px rgba(60, 64, 67, 0.15);\n",
              "    fill: var(--button-hover-fill-color);\n",
              "  }\n",
              "\n",
              "  .colab-df-quickchart-complete:disabled,\n",
              "  .colab-df-quickchart-complete:disabled:hover {\n",
              "    background-color: var(--disabled-bg-color);\n",
              "    fill: var(--disabled-fill-color);\n",
              "    box-shadow: none;\n",
              "  }\n",
              "\n",
              "  .colab-df-spinner {\n",
              "    border: 2px solid var(--fill-color);\n",
              "    border-color: transparent;\n",
              "    border-bottom-color: var(--fill-color);\n",
              "    animation:\n",
              "      spin 1s steps(1) infinite;\n",
              "  }\n",
              "\n",
              "  @keyframes spin {\n",
              "    0% {\n",
              "      border-color: transparent;\n",
              "      border-bottom-color: var(--fill-color);\n",
              "      border-left-color: var(--fill-color);\n",
              "    }\n",
              "    20% {\n",
              "      border-color: transparent;\n",
              "      border-left-color: var(--fill-color);\n",
              "      border-top-color: var(--fill-color);\n",
              "    }\n",
              "    30% {\n",
              "      border-color: transparent;\n",
              "      border-left-color: var(--fill-color);\n",
              "      border-top-color: var(--fill-color);\n",
              "      border-right-color: var(--fill-color);\n",
              "    }\n",
              "    40% {\n",
              "      border-color: transparent;\n",
              "      border-right-color: var(--fill-color);\n",
              "      border-top-color: var(--fill-color);\n",
              "    }\n",
              "    60% {\n",
              "      border-color: transparent;\n",
              "      border-right-color: var(--fill-color);\n",
              "    }\n",
              "    80% {\n",
              "      border-color: transparent;\n",
              "      border-right-color: var(--fill-color);\n",
              "      border-bottom-color: var(--fill-color);\n",
              "    }\n",
              "    90% {\n",
              "      border-color: transparent;\n",
              "      border-bottom-color: var(--fill-color);\n",
              "    }\n",
              "  }\n",
              "</style>\n",
              "\n",
              "  <script>\n",
              "    async function quickchart(key) {\n",
              "      const quickchartButtonEl =\n",
              "        document.querySelector('#' + key + ' button');\n",
              "      quickchartButtonEl.disabled = true;  // To prevent multiple clicks.\n",
              "      quickchartButtonEl.classList.add('colab-df-spinner');\n",
              "      try {\n",
              "        const charts = await google.colab.kernel.invokeFunction(\n",
              "            'suggestCharts', [key], {});\n",
              "      } catch (error) {\n",
              "        console.error('Error during call to suggestCharts:', error);\n",
              "      }\n",
              "      quickchartButtonEl.classList.remove('colab-df-spinner');\n",
              "      quickchartButtonEl.classList.add('colab-df-quickchart-complete');\n",
              "    }\n",
              "    (() => {\n",
              "      let quickchartButtonEl =\n",
              "        document.querySelector('#df-68bcfa46-3ce4-4633-be5a-6f9f35c803dd button');\n",
              "      quickchartButtonEl.style.display =\n",
              "        google.colab.kernel.accessAllowed ? 'block' : 'none';\n",
              "    })();\n",
              "  </script>\n",
              "</div>\n",
              "\n",
              "  <div id=\"id_dc7076ca-967d-474e-a7d1-69d9a9400e81\">\n",
              "    <style>\n",
              "      .colab-df-generate {\n",
              "        background-color: #E8F0FE;\n",
              "        border: none;\n",
              "        border-radius: 50%;\n",
              "        cursor: pointer;\n",
              "        display: none;\n",
              "        fill: #1967D2;\n",
              "        height: 32px;\n",
              "        padding: 0 0 0 0;\n",
              "        width: 32px;\n",
              "      }\n",
              "\n",
              "      .colab-df-generate:hover {\n",
              "        background-color: #E2EBFA;\n",
              "        box-shadow: 0px 1px 2px rgba(60, 64, 67, 0.3), 0px 1px 3px 1px rgba(60, 64, 67, 0.15);\n",
              "        fill: #174EA6;\n",
              "      }\n",
              "\n",
              "      [theme=dark] .colab-df-generate {\n",
              "        background-color: #3B4455;\n",
              "        fill: #D2E3FC;\n",
              "      }\n",
              "\n",
              "      [theme=dark] .colab-df-generate:hover {\n",
              "        background-color: #434B5C;\n",
              "        box-shadow: 0px 1px 3px 1px rgba(0, 0, 0, 0.15);\n",
              "        filter: drop-shadow(0px 1px 2px rgba(0, 0, 0, 0.3));\n",
              "        fill: #FFFFFF;\n",
              "      }\n",
              "    </style>\n",
              "    <button class=\"colab-df-generate\" onclick=\"generateWithVariable('new_houses')\"\n",
              "            title=\"Generate code using this dataframe.\"\n",
              "            style=\"display:none;\">\n",
              "\n",
              "  <svg xmlns=\"http://www.w3.org/2000/svg\" height=\"24px\"viewBox=\"0 0 24 24\"\n",
              "       width=\"24px\">\n",
              "    <path d=\"M7,19H8.4L18.45,9,17,7.55,7,17.6ZM5,21V16.75L18.45,3.32a2,2,0,0,1,2.83,0l1.4,1.43a1.91,1.91,0,0,1,.58,1.4,1.91,1.91,0,0,1-.58,1.4L9.25,21ZM18.45,9,17,7.55Zm-12,3A5.31,5.31,0,0,0,4.9,8.1,5.31,5.31,0,0,0,1,6.5,5.31,5.31,0,0,0,4.9,4.9,5.31,5.31,0,0,0,6.5,1,5.31,5.31,0,0,0,8.1,4.9,5.31,5.31,0,0,0,12,6.5,5.46,5.46,0,0,0,6.5,12Z\"/>\n",
              "  </svg>\n",
              "    </button>\n",
              "    <script>\n",
              "      (() => {\n",
              "      const buttonEl =\n",
              "        document.querySelector('#id_dc7076ca-967d-474e-a7d1-69d9a9400e81 button.colab-df-generate');\n",
              "      buttonEl.style.display =\n",
              "        google.colab.kernel.accessAllowed ? 'block' : 'none';\n",
              "\n",
              "      buttonEl.onclick = () => {\n",
              "        google.colab.notebook.generateWithVariable('new_houses');\n",
              "      }\n",
              "      })();\n",
              "    </script>\n",
              "  </div>\n",
              "\n",
              "    </div>\n",
              "  </div>\n"
            ],
            "application/vnd.google.colaboratory.intrinsic+json": {
              "type": "dataframe",
              "variable_name": "new_houses",
              "summary": "{\n  \"name\": \"new_houses\",\n  \"rows\": 3,\n  \"fields\": [\n    {\n      \"column\": \"Rooms\",\n      \"properties\": {\n        \"dtype\": \"number\",\n        \"std\": 1,\n        \"min\": 2,\n        \"max\": 5,\n        \"num_unique_values\": 3,\n        \"samples\": [\n          5,\n          3,\n          2\n        ],\n        \"semantic_type\": \"\",\n        \"description\": \"\"\n      }\n    },\n    {\n      \"column\": \"Bathroom\",\n      \"properties\": {\n        \"dtype\": \"number\",\n        \"std\": 1.1547005383792517,\n        \"min\": 1.0,\n        \"max\": 3.0,\n        \"num_unique_values\": 2,\n        \"samples\": [\n          1.0,\n          3.0\n        ],\n        \"semantic_type\": \"\",\n        \"description\": \"\"\n      }\n    },\n    {\n      \"column\": \"Landsize\",\n      \"properties\": {\n        \"dtype\": \"number\",\n        \"std\": 506.7793734292403,\n        \"min\": 0.0,\n        \"max\": 1006.0,\n        \"num_unique_values\": 3,\n        \"samples\": [\n          1006.0,\n          396.0\n        ],\n        \"semantic_type\": \"\",\n        \"description\": \"\"\n      }\n    },\n    {\n      \"column\": \"BuildingArea\",\n      \"properties\": {\n        \"dtype\": \"number\",\n        \"std\": 190.66287875025208,\n        \"min\": 59.0,\n        \"max\": 411.0,\n        \"num_unique_values\": 3,\n        \"samples\": [\n          411.0,\n          108.0\n        ],\n        \"semantic_type\": \"\",\n        \"description\": \"\"\n      }\n    },\n    {\n      \"column\": \"YearBuilt\",\n      \"properties\": {\n        \"dtype\": \"number\",\n        \"std\": 25.658007197234422,\n        \"min\": 1920.0,\n        \"max\": 1970.0,\n        \"num_unique_values\": 3,\n        \"samples\": [\n          1920.0,\n          1955.0\n        ],\n        \"semantic_type\": \"\",\n        \"description\": \"\"\n      }\n    },\n    {\n      \"column\": \"Lattitude\",\n      \"properties\": {\n        \"dtype\": \"number\",\n        \"std\": 0.06875976900290773,\n        \"min\": -37.8538,\n        \"max\": -37.71665,\n        \"num_unique_values\": 3,\n        \"samples\": [\n          -37.7765,\n          -37.71665\n        ],\n        \"semantic_type\": \"\",\n        \"description\": \"\"\n      }\n    },\n    {\n      \"column\": \"Longtitude\",\n      \"properties\": {\n        \"dtype\": \"number\",\n        \"std\": 0.055243860594027965,\n        \"min\": 145.0088,\n        \"max\": 145.11682,\n        \"num_unique_values\": 3,\n        \"samples\": [\n          145.0427,\n          145.11682\n        ],\n        \"semantic_type\": \"\",\n        \"description\": \"\"\n      }\n    }\n  ]\n}"
            }
          },
          "metadata": {},
          "execution_count": 48
        }
      ]
    },
    {
      "cell_type": "code",
      "source": [
        "print(\"Making predictions for houses:\")\n",
        "print(\"The predictions are\")\n",
        "melbourne_model.predict(new_houses)"
      ],
      "metadata": {
        "colab": {
          "base_uri": "https://localhost:8080/"
        },
        "id": "cxnstlSDasvZ",
        "outputId": "e3c88fef-8b76-4aad-9778-da0587f65c69"
      },
      "execution_count": 49,
      "outputs": [
        {
          "output_type": "stream",
          "name": "stdout",
          "text": [
            "Making predictions for houses:\n",
            "The predictions are\n"
          ]
        },
        {
          "output_type": "execute_result",
          "data": {
            "text/plain": [
              "array([2600000.,  806000.,  630000.])"
            ]
          },
          "metadata": {},
          "execution_count": 49
        }
      ]
    },
    {
      "cell_type": "code",
      "source": [],
      "metadata": {
        "id": "Q0c1TPHmeVwQ"
      },
      "execution_count": null,
      "outputs": []
    }
  ]
}